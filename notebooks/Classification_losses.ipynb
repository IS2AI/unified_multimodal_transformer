{
 "cells": [
  {
   "cell_type": "markdown",
   "metadata": {},
   "source": [
    "### Library"
   ]
  },
  {
   "cell_type": "code",
   "execution_count": 1,
   "metadata": {},
   "outputs": [
    {
     "name": "stdout",
     "output_type": "stream",
     "text": [
      "/workdir/github\n"
     ]
    }
   ],
   "source": [
    "cd /workdir/github"
   ]
  },
  {
   "cell_type": "code",
   "execution_count": 23,
   "metadata": {},
   "outputs": [],
   "source": [
    "import torch\n",
    "import torchaudio\n",
    "from torch.utils.data import DataLoader\n",
    "import torch.nn.functional as F \n",
    "from tqdm.notebook import tqdm\n",
    "\n",
    "import numpy as np\n",
    "import os\n",
    "\n",
    "os.environ['OMP_NUM_THREADS'] = '1'\n",
    "os.environ['MKL_NUM_THREADS'] = '1'\n",
    "torch.set_num_threads(1)\n",
    "device = torch.device(f\"cuda:2\" if torch.cuda.is_available() else \"cpu\")"
   ]
  },
  {
   "cell_type": "code",
   "execution_count": 24,
   "metadata": {},
   "outputs": [],
   "source": [
    "from speaker_verification.transforms import Audio_Transforms\n",
    "from speaker_verification.transforms import Image_Transforms\n",
    "from speaker_verification.models import Model\n",
    "from speaker_verification.dataset import SpeakingFacesDataset\n",
    "from speaker_verification.dataset import ValidDataset\n",
    "from speaker_verification.sampler import ProtoSampler\n",
    "from speaker_verification.loss import PrototypicalLoss\n",
    "from speaker_verification.train import train_model\n",
    "\n",
    "from speaker_verification.metrics import EER_\n",
    "from speaker_verification.metrics import accuracy_"
   ]
  },
  {
   "cell_type": "markdown",
   "metadata": {},
   "source": [
    "### General Pipeline"
   ]
  },
  {
   "cell_type": "code",
   "execution_count": 25,
   "metadata": {},
   "outputs": [],
   "source": [
    "# dataset\n",
    "annotations_file = \"/workdir/github/annotations_file_short_SF.csv\"\n",
    "path2datasets = \"/workdir/sf_pv\"\n",
    "dataset_dir = f\"/workdir/sf_pv/data_v2\"\n",
    "data_type = ['rgb']\n",
    "\n",
    "# model\n",
    "library = \"timm\"\n",
    "model_name = \"resnet34\"\n",
    "pretrained_weights=True\n",
    "fine_tune=True\n",
    "embedding_size=128\n",
    "pool=None\n",
    "\n",
    "# transform\n",
    "audio_T = None\n",
    "image_T = None\n",
    "\n",
    "# sampler\n",
    "n_batch=10\n",
    "n_ways=2\n",
    "n_support=1\n",
    "n_query=1\n",
    "\n",
    "# loss\n",
    "dist_type='squared_euclidean'\n",
    "\n",
    "# train\n",
    "num_epochs=20\n",
    "save_dir='/workdir/results'\n",
    "exp_name='chern'\n",
    "wandb=None"
   ]
  },
  {
   "cell_type": "code",
   "execution_count": 26,
   "metadata": {},
   "outputs": [
    {
     "name": "stdout",
     "output_type": "stream",
     "text": [
      "rgb data type\n",
      "timm model is used.\n"
     ]
    }
   ],
   "source": [
    "if 'wav' in data_type:\n",
    "    # audio transform params\n",
    "    sample_rate=16000\n",
    "    sample_duration=2 # seconds\n",
    "    n_fft=512 # from Korean code\n",
    "    win_length=400\n",
    "    hop_length=160\n",
    "    window_fn=torch.hamming_window\n",
    "    n_mels=40\n",
    "\n",
    "    audio_T = Audio_Transforms(sample_rate=sample_rate,\n",
    "                                sample_duration=sample_duration, # seconds\n",
    "                                n_fft=n_fft, # from Korean code\n",
    "                                win_length=win_length,\n",
    "                                hop_length=hop_length,\n",
    "                                window_fn=torch.hamming_window,\n",
    "                                n_mels=n_mels,\n",
    "                                model_name=model_name,\n",
    "                                library=library)\n",
    "    audio_T = audio_T.transform\n",
    "\n",
    "if 'rgb' in data_type or 'thr' in data_type:\n",
    "    image_T = Image_Transforms(model_name=model_name,\n",
    "                               library=library)\n",
    "\n",
    "    image_T = image_T.transform         \n",
    "\n",
    "model = Model(library=library, \n",
    "            pretrained_weights=pretrained_weights, \n",
    "            fine_tune=fine_tune, \n",
    "            embedding_size=embedding_size,\n",
    "            model_name = model_name,\n",
    "            pool=pool,\n",
    "            data_type=data_type)\n",
    "\n",
    "model = model.to(device)         "
   ]
  },
  {
   "cell_type": "code",
   "execution_count": 27,
   "metadata": {},
   "outputs": [],
   "source": [
    "import torchvision\n",
    "weights = torchvision.models.ResNet34_Weights.DEFAULT\n",
    "model_resnet = torchvision.models.resnet34(weights=weights)\n",
    "model_resnet.fc = torch.nn.Linear(model_resnet.fc.in_features, 128)\n",
    "model_resnet = model_resnet.to(device)  \n",
    "\n",
    "linear = torch.nn.Linear(128, 100)\n",
    "linear = linear.to(device) \n",
    "\n",
    "model = torch.nn.Sequential(\n",
    "            model_resnet,\n",
    "            linear\n",
    ")\n",
    "model = model.to(device)"
   ]
  },
  {
   "cell_type": "code",
   "execution_count": 28,
   "metadata": {},
   "outputs": [],
   "source": [
    "# Dataset\n",
    "train_dataset = SpeakingFacesDataset(annotations_file,dataset_dir,'train',\n",
    "                                image_transform=image_T, \n",
    "                                audio_transform=audio_T,\n",
    "                                data_type=data_type)\n",
    "\n",
    "train_dataloader = DataLoader(dataset=train_dataset,\n",
    "                        shuffle=True,\n",
    "                        batch_size=64,\n",
    "                        num_workers=4)\n",
    "\n",
    "valid_dataset = ValidDataset(path2datasets,'valid',\n",
    "                                image_transform=image_T, \n",
    "                                audio_transform=audio_T,\n",
    "                                data_type=data_type)\n",
    "\n",
    "valid_dataloader = DataLoader(dataset=valid_dataset,\n",
    "                            batch_size=64)"
   ]
  },
  {
   "cell_type": "code",
   "execution_count": 29,
   "metadata": {},
   "outputs": [],
   "source": [
    "optimizer = torch.optim.AdamW(model.parameters(), lr = 1e-3, weight_decay = 1e-3)\n",
    "scheduler = torch.optim.lr_scheduler.StepLR(optimizer, 10, gamma=0.95)"
   ]
  },
  {
   "cell_type": "markdown",
   "metadata": {},
   "source": [
    "### train one epoch"
   ]
  },
  {
   "cell_type": "code",
   "execution_count": 30,
   "metadata": {},
   "outputs": [],
   "source": [
    "def train_singe_epoch(model,\n",
    "                      train_dataloader, \n",
    "                      epoch,\n",
    "                      optimizer,\n",
    "                      device):\n",
    "\n",
    "    model.train()\n",
    "    pbar = tqdm(train_dataloader, desc=f'Train (epoch = {epoch})', leave=False)  \n",
    "\n",
    "    total_loss = 0\n",
    "    total_acc = 0\n",
    "    for batch in pbar:\n",
    "\n",
    "        data, label = batch\n",
    "        data = data.to(device)\n",
    "        label = label.to(device)\n",
    "\n",
    "        data = model(data)\n",
    "        loss = F.cross_entropy(data, label)\n",
    "        pred = torch.argmax(F.softmax(data,dim=1), dim=1)\n",
    "        accuracy = (pred == label).sum()/len(label) * 100\n",
    "        \n",
    "        total_loss += loss.item()\n",
    "        total_acc += accuracy.item()\n",
    "        \n",
    "        optimizer.zero_grad()\n",
    "        loss.backward()\n",
    "        optimizer.step()\n",
    "    \n",
    "    avg_loss = total_loss / len(train_dataloader)\n",
    "    avg_acc = total_acc / len(train_dataloader)\n",
    "\n",
    "    print()\n",
    "    print(f\"Average train loss: {avg_loss}\")\n",
    "    print(f\"Average train accuracy: {avg_acc}\")\n",
    "\n",
    "    return model, avg_loss, avg_acc"
   ]
  },
  {
   "cell_type": "code",
   "execution_count": 31,
   "metadata": {},
   "outputs": [
    {
     "data": {
      "application/vnd.jupyter.widget-view+json": {
       "model_id": "c600648e994e4f6393e055010e161afc",
       "version_major": 2,
       "version_minor": 0
      },
      "text/plain": [
       "Train (epoch = 1):   0%|          | 0/146 [00:00<?, ?it/s]"
      ]
     },
     "metadata": {},
     "output_type": "display_data"
    },
    {
     "name": "stdout",
     "output_type": "stream",
     "text": [
      "\n",
      "Average train loss: 0.8382896775354262\n",
      "Average train accuracy: 80.42475269265371\n"
     ]
    }
   ],
   "source": [
    "model, avg_loss, avg_acc = train_singe_epoch(model,\n",
    "                      train_dataloader, \n",
    "                      1,\n",
    "                      optimizer,\n",
    "                      device)"
   ]
  },
  {
   "cell_type": "code",
   "execution_count": 32,
   "metadata": {},
   "outputs": [],
   "source": [
    "def evaluate_single_epoch(model,\n",
    "                        val_dataloader,\n",
    "                        epoch, \n",
    "                        device,\n",
    "                        data_type):\n",
    "    model.eval()\n",
    "    total_eer = 0\n",
    "    total_accuracy = 0\n",
    "\n",
    "    pbar = tqdm(val_dataloader, desc=f'Eval (epoch = {epoch})')\n",
    "\n",
    "    for batch in pbar:\n",
    "\n",
    "        data_type = sorted(data_type)\n",
    "        id1, id2, labels = batch\n",
    "\n",
    "        if len(data_type) == 1:\n",
    "            data_id1, _ = id1\n",
    "            data_id2, _ = id2\n",
    "\n",
    "            data_id1 = data_id1.to(device)\n",
    "            data_id2 = data_id2.to(device)\n",
    "\n",
    "        with torch.no_grad():\n",
    "            id1_out = model(data_id1)\n",
    "            id2_out = model(data_id2)\n",
    "\n",
    "            cos_sim = F.cosine_similarity(id1_out, id2_out, dim=1)\n",
    "            eer, scores = EER_(cos_sim, labels)\n",
    "            accuracy = accuracy_(labels, scores)\n",
    "\n",
    "            total_eer += eer\n",
    "            total_accuracy += accuracy\n",
    "    \n",
    "    avg_eer = total_eer / len(val_dataloader)\n",
    "    print(\"\\nAverage val eer: {}\".format(avg_eer))\n",
    "\n",
    "    avg_accuracy = total_accuracy / len(val_dataloader)\n",
    "    print(\"\\nAverage val accuracy: {}\".format(avg_accuracy))\n",
    "\n",
    "    return model, avg_eer, avg_accuracy"
   ]
  },
  {
   "cell_type": "code",
   "execution_count": 33,
   "metadata": {},
   "outputs": [],
   "source": [
    "def train_model(model, \n",
    "                train_dataloader, \n",
    "                valid_dataloader):\n",
    "\n",
    "    for epoch in tqdm(range(num_epochs)):\n",
    "        \n",
    "        model, train_loss, train_acc = train_singe_epoch(model, \n",
    "                                  train_dataloader,\n",
    "                                  epoch,\n",
    "                                  optimizer,\n",
    "                                  device)\n",
    "        \n",
    "        model, val_eer, val_acc = evaluate_single_epoch(model, \n",
    "                                  valid_dataloader,\n",
    "                                  epoch,\n",
    "                                  device,\n",
    "                                  data_type)\n",
    "\n",
    "        scheduler.step()\n",
    "    return model"
   ]
  },
  {
   "cell_type": "code",
   "execution_count": 13,
   "metadata": {},
   "outputs": [
    {
     "data": {
      "application/vnd.jupyter.widget-view+json": {
       "model_id": "df3e07f1cea543e280b431af23864015",
       "version_major": 2,
       "version_minor": 0
      },
      "text/plain": [
       "  0%|          | 0/20 [00:00<?, ?it/s]"
      ]
     },
     "metadata": {},
     "output_type": "display_data"
    },
    {
     "data": {
      "application/vnd.jupyter.widget-view+json": {
       "model_id": "9a98320ca00344e3b3702d358031dafe",
       "version_major": 2,
       "version_minor": 0
      },
      "text/plain": [
       "Train (epoch = 0):   0%|          | 0/146 [00:00<?, ?it/s]"
      ]
     },
     "metadata": {},
     "output_type": "display_data"
    },
    {
     "name": "stdout",
     "output_type": "stream",
     "text": [
      "\n",
      "Average train loss: 0.09241721228926048\n",
      "Average train accuracy: 97.8167808219178\n"
     ]
    },
    {
     "data": {
      "application/vnd.jupyter.widget-view+json": {
       "model_id": "1f22dd75777a4de383f763845351c920",
       "version_major": 2,
       "version_minor": 0
      },
      "text/plain": [
       "Eval (epoch = 0):   0%|          | 0/594 [00:00<?, ?it/s]"
      ]
     },
     "metadata": {},
     "output_type": "display_data"
    },
    {
     "name": "stdout",
     "output_type": "stream",
     "text": [
      "\n",
      "Average val eer: 7.584369282840795\n",
      "\n",
      "Average val accuracy: 92.25413860830528\n"
     ]
    },
    {
     "data": {
      "application/vnd.jupyter.widget-view+json": {
       "model_id": "398cce23fcda40a19e59d9dfc4469e46",
       "version_major": 2,
       "version_minor": 0
      },
      "text/plain": [
       "Train (epoch = 1):   0%|          | 0/146 [00:00<?, ?it/s]"
      ]
     },
     "metadata": {},
     "output_type": "display_data"
    },
    {
     "name": "stdout",
     "output_type": "stream",
     "text": [
      "\n",
      "Average train loss: 0.058324468982316656\n",
      "Average train accuracy: 98.67968352853435\n"
     ]
    },
    {
     "data": {
      "application/vnd.jupyter.widget-view+json": {
       "model_id": "ca7fba69f82d476e9d5c24cccb50a613",
       "version_major": 2,
       "version_minor": 0
      },
      "text/plain": [
       "Eval (epoch = 1):   0%|          | 0/594 [00:00<?, ?it/s]"
      ]
     },
     "metadata": {},
     "output_type": "display_data"
    },
    {
     "name": "stdout",
     "output_type": "stream",
     "text": [
      "\n",
      "Average val eer: 8.766921808950595\n",
      "\n",
      "Average val accuracy: 90.900322671156\n"
     ]
    },
    {
     "data": {
      "application/vnd.jupyter.widget-view+json": {
       "model_id": "5a9495e3750846fcb295dfd98749219e",
       "version_major": 2,
       "version_minor": 0
      },
      "text/plain": [
       "Train (epoch = 2):   0%|          | 0/146 [00:00<?, ?it/s]"
      ]
     },
     "metadata": {},
     "output_type": "display_data"
    },
    {
     "name": "stdout",
     "output_type": "stream",
     "text": [
      "\n",
      "Average train loss: 0.05622494854479518\n",
      "Average train accuracy: 98.5512588710001\n"
     ]
    },
    {
     "data": {
      "application/vnd.jupyter.widget-view+json": {
       "model_id": "5cf5b22485614eab9a42a4b52ba98bbb",
       "version_major": 2,
       "version_minor": 0
      },
      "text/plain": [
       "Eval (epoch = 2):   0%|          | 0/594 [00:00<?, ?it/s]"
      ]
     },
     "metadata": {},
     "output_type": "display_data"
    },
    {
     "name": "stdout",
     "output_type": "stream",
     "text": [
      "\n",
      "Average val eer: 9.328884409034284\n",
      "\n",
      "Average val accuracy: 90.4136854657688\n"
     ]
    },
    {
     "data": {
      "application/vnd.jupyter.widget-view+json": {
       "model_id": "e6ecf2ef3e5541258a72d1f9ca3460f4",
       "version_major": 2,
       "version_minor": 0
      },
      "text/plain": [
       "Train (epoch = 3):   0%|          | 0/146 [00:00<?, ?it/s]"
      ]
     },
     "metadata": {},
     "output_type": "display_data"
    },
    {
     "name": "stdout",
     "output_type": "stream",
     "text": [
      "\n",
      "Average train loss: 0.06344400461897101\n",
      "Average train accuracy: 98.43353626826038\n"
     ]
    },
    {
     "data": {
      "application/vnd.jupyter.widget-view+json": {
       "model_id": "b0a2611d40044aa4bd4007d490549d64",
       "version_major": 2,
       "version_minor": 0
      },
      "text/plain": [
       "Eval (epoch = 3):   0%|          | 0/594 [00:00<?, ?it/s]"
      ]
     },
     "metadata": {},
     "output_type": "display_data"
    },
    {
     "name": "stdout",
     "output_type": "stream",
     "text": [
      "\n",
      "Average val eer: 7.20572950137433\n",
      "\n",
      "Average val accuracy: 92.4636994949495\n"
     ]
    },
    {
     "data": {
      "application/vnd.jupyter.widget-view+json": {
       "model_id": "04411af037514e17b594f27cc5024e3f",
       "version_major": 2,
       "version_minor": 0
      },
      "text/plain": [
       "Train (epoch = 4):   0%|          | 0/146 [00:00<?, ?it/s]"
      ]
     },
     "metadata": {},
     "output_type": "display_data"
    },
    {
     "name": "stdout",
     "output_type": "stream",
     "text": [
      "\n",
      "Average train loss: 0.00869437371825557\n",
      "Average train accuracy: 99.80736301369863\n"
     ]
    },
    {
     "data": {
      "application/vnd.jupyter.widget-view+json": {
       "model_id": "75ed596a675841fab975956d0fc76738",
       "version_major": 2,
       "version_minor": 0
      },
      "text/plain": [
       "Eval (epoch = 4):   0%|          | 0/594 [00:00<?, ?it/s]"
      ]
     },
     "metadata": {},
     "output_type": "display_data"
    },
    {
     "name": "stdout",
     "output_type": "stream",
     "text": [
      "\n",
      "Average val eer: 5.863461271469695\n",
      "\n",
      "Average val accuracy: 93.83680555555556\n"
     ]
    },
    {
     "data": {
      "application/vnd.jupyter.widget-view+json": {
       "model_id": "b9d4b6209d4145a79d0144357c287e0b",
       "version_major": 2,
       "version_minor": 0
      },
      "text/plain": [
       "Train (epoch = 5):   0%|          | 0/146 [00:00<?, ?it/s]"
      ]
     },
     "metadata": {},
     "output_type": "display_data"
    },
    {
     "name": "stdout",
     "output_type": "stream",
     "text": [
      "\n",
      "Average train loss: 0.0006209122620432076\n",
      "Average train accuracy: 100.0\n"
     ]
    },
    {
     "data": {
      "application/vnd.jupyter.widget-view+json": {
       "model_id": "3abe63034b9247a4825022db8b7f57d5",
       "version_major": 2,
       "version_minor": 0
      },
      "text/plain": [
       "Eval (epoch = 5):   0%|          | 0/594 [00:00<?, ?it/s]"
      ]
     },
     "metadata": {},
     "output_type": "display_data"
    },
    {
     "name": "stdout",
     "output_type": "stream",
     "text": [
      "\n",
      "Average val eer: 5.412804283542606\n",
      "\n",
      "Average val accuracy: 94.16035353535354\n"
     ]
    },
    {
     "data": {
      "application/vnd.jupyter.widget-view+json": {
       "model_id": "164d6886621243bd8de8274f670d07e5",
       "version_major": 2,
       "version_minor": 0
      },
      "text/plain": [
       "Train (epoch = 6):   0%|          | 0/146 [00:00<?, ?it/s]"
      ]
     },
     "metadata": {},
     "output_type": "display_data"
    },
    {
     "name": "stdout",
     "output_type": "stream",
     "text": [
      "\n",
      "Average train loss: 0.00023227830263762098\n",
      "Average train accuracy: 100.0\n"
     ]
    },
    {
     "data": {
      "application/vnd.jupyter.widget-view+json": {
       "model_id": "d310169207054dc8bf0027ee1bf66565",
       "version_major": 2,
       "version_minor": 0
      },
      "text/plain": [
       "Eval (epoch = 6):   0%|          | 0/594 [00:00<?, ?it/s]"
      ]
     },
     "metadata": {},
     "output_type": "display_data"
    },
    {
     "name": "stdout",
     "output_type": "stream",
     "text": [
      "\n",
      "Average val eer: 5.3527086017503365\n",
      "\n",
      "Average val accuracy: 94.30853675645342\n"
     ]
    },
    {
     "data": {
      "application/vnd.jupyter.widget-view+json": {
       "model_id": "68e9ea36713e4c37a81d248b1dd90bfc",
       "version_major": 2,
       "version_minor": 0
      },
      "text/plain": [
       "Train (epoch = 7):   0%|          | 0/146 [00:00<?, ?it/s]"
      ]
     },
     "metadata": {},
     "output_type": "display_data"
    },
    {
     "name": "stdout",
     "output_type": "stream",
     "text": [
      "\n",
      "Average train loss: 0.000410251483416475\n",
      "Average train accuracy: 99.97859589041096\n"
     ]
    },
    {
     "data": {
      "application/vnd.jupyter.widget-view+json": {
       "model_id": "b643ee724d084810b6c269d6778f3853",
       "version_major": 2,
       "version_minor": 0
      },
      "text/plain": [
       "Eval (epoch = 7):   0%|          | 0/594 [00:00<?, ?it/s]"
      ]
     },
     "metadata": {},
     "output_type": "display_data"
    },
    {
     "name": "stdout",
     "output_type": "stream",
     "text": [
      "\n",
      "Average val eer: 6.03525226119099\n",
      "\n",
      "Average val accuracy: 93.68248456790124\n"
     ]
    },
    {
     "data": {
      "application/vnd.jupyter.widget-view+json": {
       "model_id": "6481052e3f284b848bd009e09355ddd2",
       "version_major": 2,
       "version_minor": 0
      },
      "text/plain": [
       "Train (epoch = 8):   0%|          | 0/146 [00:00<?, ?it/s]"
      ]
     },
     "metadata": {},
     "output_type": "display_data"
    },
    {
     "name": "stdout",
     "output_type": "stream",
     "text": [
      "\n",
      "Average train loss: 0.12507632274644317\n",
      "Average train accuracy: 96.4576198630137\n"
     ]
    },
    {
     "data": {
      "application/vnd.jupyter.widget-view+json": {
       "model_id": "8188370f820948ebbd6756a88124c422",
       "version_major": 2,
       "version_minor": 0
      },
      "text/plain": [
       "Eval (epoch = 8):   0%|          | 0/594 [00:00<?, ?it/s]"
      ]
     },
     "metadata": {},
     "output_type": "display_data"
    },
    {
     "name": "stdout",
     "output_type": "stream",
     "text": [
      "\n",
      "Average val eer: 10.513774944940682\n",
      "\n",
      "Average val accuracy: 89.29836560044893\n"
     ]
    },
    {
     "data": {
      "application/vnd.jupyter.widget-view+json": {
       "model_id": "0537648053494259b1db2da105fa21a6",
       "version_major": 2,
       "version_minor": 0
      },
      "text/plain": [
       "Train (epoch = 9):   0%|          | 0/146 [00:00<?, ?it/s]"
      ]
     },
     "metadata": {},
     "output_type": "display_data"
    },
    {
     "name": "stdout",
     "output_type": "stream",
     "text": [
      "\n",
      "Average train loss: 0.00858360527590402\n",
      "Average train accuracy: 99.77525684931507\n"
     ]
    },
    {
     "data": {
      "application/vnd.jupyter.widget-view+json": {
       "model_id": "4046af09e4f841ce9e2277b04805500b",
       "version_major": 2,
       "version_minor": 0
      },
      "text/plain": [
       "Eval (epoch = 9):   0%|          | 0/594 [00:00<?, ?it/s]"
      ]
     },
     "metadata": {},
     "output_type": "display_data"
    },
    {
     "name": "stdout",
     "output_type": "stream",
     "text": [
      "\n",
      "Average val eer: 5.850548726426873\n",
      "\n",
      "Average val accuracy: 93.81663860830528\n"
     ]
    },
    {
     "data": {
      "application/vnd.jupyter.widget-view+json": {
       "model_id": "798274f89c804b6eb0b76f939a0683f9",
       "version_major": 2,
       "version_minor": 0
      },
      "text/plain": [
       "Train (epoch = 10):   0%|          | 0/146 [00:00<?, ?it/s]"
      ]
     },
     "metadata": {},
     "output_type": "display_data"
    },
    {
     "name": "stdout",
     "output_type": "stream",
     "text": [
      "\n",
      "Average train loss: 0.0005734593217573703\n",
      "Average train accuracy: 100.0\n"
     ]
    },
    {
     "data": {
      "application/vnd.jupyter.widget-view+json": {
       "model_id": "5c24ebc33d2042b39bbbb7e9035a0b44",
       "version_major": 2,
       "version_minor": 0
      },
      "text/plain": [
       "Eval (epoch = 10):   0%|          | 0/594 [00:00<?, ?it/s]"
      ]
     },
     "metadata": {},
     "output_type": "display_data"
    },
    {
     "name": "stdout",
     "output_type": "stream",
     "text": [
      "\n",
      "Average val eer: 5.664898297634714\n",
      "\n",
      "Average val accuracy: 93.90958193041526\n"
     ]
    },
    {
     "data": {
      "application/vnd.jupyter.widget-view+json": {
       "model_id": "907a5740f3a343d493d1dc2bd089403a",
       "version_major": 2,
       "version_minor": 0
      },
      "text/plain": [
       "Train (epoch = 11):   0%|          | 0/146 [00:00<?, ?it/s]"
      ]
     },
     "metadata": {},
     "output_type": "display_data"
    },
    {
     "name": "stdout",
     "output_type": "stream",
     "text": [
      "\n",
      "Average train loss: 0.00021292578388318063\n",
      "Average train accuracy: 100.0\n"
     ]
    },
    {
     "data": {
      "application/vnd.jupyter.widget-view+json": {
       "model_id": "2965b02754ab4c9ab03669d8b4446cd8",
       "version_major": 2,
       "version_minor": 0
      },
      "text/plain": [
       "Eval (epoch = 11):   0%|          | 0/594 [00:00<?, ?it/s]"
      ]
     },
     "metadata": {},
     "output_type": "display_data"
    },
    {
     "name": "stdout",
     "output_type": "stream",
     "text": [
      "\n",
      "Average val eer: 5.470000632816554\n",
      "\n",
      "Average val accuracy: 94.2191007295174\n"
     ]
    },
    {
     "data": {
      "application/vnd.jupyter.widget-view+json": {
       "model_id": "c5af7838af104f4fbc0d756a349c5fd0",
       "version_major": 2,
       "version_minor": 0
      },
      "text/plain": [
       "Train (epoch = 12):   0%|          | 0/146 [00:00<?, ?it/s]"
      ]
     },
     "metadata": {},
     "output_type": "display_data"
    },
    {
     "name": "stdout",
     "output_type": "stream",
     "text": [
      "\n",
      "Average train loss: 0.00015004996616693934\n",
      "Average train accuracy: 100.0\n"
     ]
    },
    {
     "data": {
      "application/vnd.jupyter.widget-view+json": {
       "model_id": "f9aa03b4f8b346e4912e1ac9ddf6fa76",
       "version_major": 2,
       "version_minor": 0
      },
      "text/plain": [
       "Eval (epoch = 12):   0%|          | 0/594 [00:00<?, ?it/s]"
      ]
     },
     "metadata": {},
     "output_type": "display_data"
    },
    {
     "name": "stdout",
     "output_type": "stream",
     "text": [
      "\n",
      "Average val eer: 5.5365098463397135\n",
      "\n",
      "Average val accuracy: 94.23926767676768\n"
     ]
    },
    {
     "data": {
      "application/vnd.jupyter.widget-view+json": {
       "model_id": "ec855318e9c841ff9e07dcccb36b41f7",
       "version_major": 2,
       "version_minor": 0
      },
      "text/plain": [
       "Train (epoch = 13):   0%|          | 0/146 [00:00<?, ?it/s]"
      ]
     },
     "metadata": {},
     "output_type": "display_data"
    },
    {
     "name": "stdout",
     "output_type": "stream",
     "text": [
      "\n",
      "Average train loss: 0.0001329525487450803\n",
      "Average train accuracy: 100.0\n"
     ]
    },
    {
     "data": {
      "application/vnd.jupyter.widget-view+json": {
       "model_id": "ff9fac8c21824d7d8711644c3e3c8e1c",
       "version_major": 2,
       "version_minor": 0
      },
      "text/plain": [
       "Eval (epoch = 13):   0%|          | 0/594 [00:00<?, ?it/s]"
      ]
     },
     "metadata": {},
     "output_type": "display_data"
    },
    {
     "name": "stdout",
     "output_type": "stream",
     "text": [
      "\n",
      "Average val eer: 5.504656620981037\n",
      "\n",
      "Average val accuracy: 94.12352693602693\n"
     ]
    },
    {
     "data": {
      "application/vnd.jupyter.widget-view+json": {
       "model_id": "430673b0c2d74cf39d7a50656988819a",
       "version_major": 2,
       "version_minor": 0
      },
      "text/plain": [
       "Train (epoch = 14):   0%|          | 0/146 [00:00<?, ?it/s]"
      ]
     },
     "metadata": {},
     "output_type": "display_data"
    },
    {
     "name": "stdout",
     "output_type": "stream",
     "text": [
      "\n",
      "Average train loss: 0.00010353646128550443\n",
      "Average train accuracy: 100.0\n"
     ]
    },
    {
     "data": {
      "application/vnd.jupyter.widget-view+json": {
       "model_id": "6ce153dea8ad4a8689b574a9f52872c6",
       "version_major": 2,
       "version_minor": 0
      },
      "text/plain": [
       "Eval (epoch = 14):   0%|          | 0/594 [00:00<?, ?it/s]"
      ]
     },
     "metadata": {},
     "output_type": "display_data"
    },
    {
     "name": "stdout",
     "output_type": "stream",
     "text": [
      "\n",
      "Average val eer: 5.216038176569477\n",
      "\n",
      "Average val accuracy: 94.51897446689114\n"
     ]
    },
    {
     "data": {
      "application/vnd.jupyter.widget-view+json": {
       "model_id": "62d1f7d4cd854e7283ce09cbd70fe334",
       "version_major": 2,
       "version_minor": 0
      },
      "text/plain": [
       "Train (epoch = 15):   0%|          | 0/146 [00:00<?, ?it/s]"
      ]
     },
     "metadata": {},
     "output_type": "display_data"
    },
    {
     "name": "stdout",
     "output_type": "stream",
     "text": [
      "\n",
      "Average train loss: 8.765138191187336e-05\n",
      "Average train accuracy: 100.0\n"
     ]
    },
    {
     "data": {
      "application/vnd.jupyter.widget-view+json": {
       "model_id": "b835197b54ab47a8adccc10f6516e05e",
       "version_major": 2,
       "version_minor": 0
      },
      "text/plain": [
       "Eval (epoch = 15):   0%|          | 0/594 [00:00<?, ?it/s]"
      ]
     },
     "metadata": {},
     "output_type": "display_data"
    },
    {
     "name": "stdout",
     "output_type": "stream",
     "text": [
      "\n",
      "Average val eer: 5.312792734591935\n",
      "\n",
      "Average val accuracy: 94.4760101010101\n"
     ]
    },
    {
     "data": {
      "application/vnd.jupyter.widget-view+json": {
       "model_id": "5cd41cdd22564c3ca6c210221716eacd",
       "version_major": 2,
       "version_minor": 0
      },
      "text/plain": [
       "Train (epoch = 16):   0%|          | 0/146 [00:00<?, ?it/s]"
      ]
     },
     "metadata": {},
     "output_type": "display_data"
    },
    {
     "name": "stdout",
     "output_type": "stream",
     "text": [
      "\n",
      "Average train loss: 7.850109793489786e-05\n",
      "Average train accuracy: 100.0\n"
     ]
    },
    {
     "data": {
      "application/vnd.jupyter.widget-view+json": {
       "model_id": "103cf176f4d848b1b4d2bff58bc1e72d",
       "version_major": 2,
       "version_minor": 0
      },
      "text/plain": [
       "Eval (epoch = 16):   0%|          | 0/594 [00:00<?, ?it/s]"
      ]
     },
     "metadata": {},
     "output_type": "display_data"
    },
    {
     "name": "stdout",
     "output_type": "stream",
     "text": [
      "\n",
      "Average val eer: 5.232823364413601\n",
      "\n",
      "Average val accuracy: 94.48214786756454\n"
     ]
    },
    {
     "data": {
      "application/vnd.jupyter.widget-view+json": {
       "model_id": "7c56e65db4c34a829467b2e39f112226",
       "version_major": 2,
       "version_minor": 0
      },
      "text/plain": [
       "Train (epoch = 17):   0%|          | 0/146 [00:00<?, ?it/s]"
      ]
     },
     "metadata": {},
     "output_type": "display_data"
    },
    {
     "name": "stdout",
     "output_type": "stream",
     "text": [
      "\n",
      "Average train loss: 7.138657936792859e-05\n",
      "Average train accuracy: 100.0\n"
     ]
    },
    {
     "data": {
      "application/vnd.jupyter.widget-view+json": {
       "model_id": "5cd320866e5d4b929daad7423be8b221",
       "version_major": 2,
       "version_minor": 0
      },
      "text/plain": [
       "Eval (epoch = 17):   0%|          | 0/594 [00:00<?, ?it/s]"
      ]
     },
     "metadata": {},
     "output_type": "display_data"
    },
    {
     "name": "stdout",
     "output_type": "stream",
     "text": [
      "\n",
      "Average val eer: 5.180951200262925\n",
      "\n",
      "Average val accuracy: 94.54177188552188\n"
     ]
    },
    {
     "data": {
      "application/vnd.jupyter.widget-view+json": {
       "model_id": "8d54b0b07b334ba5ad00a1104b05c7a0",
       "version_major": 2,
       "version_minor": 0
      },
      "text/plain": [
       "Train (epoch = 18):   0%|          | 0/146 [00:00<?, ?it/s]"
      ]
     },
     "metadata": {},
     "output_type": "display_data"
    },
    {
     "name": "stdout",
     "output_type": "stream",
     "text": [
      "\n",
      "Average train loss: 5.7631371331908294e-05\n",
      "Average train accuracy: 100.0\n"
     ]
    },
    {
     "data": {
      "application/vnd.jupyter.widget-view+json": {
       "model_id": "740fb09219644035b1dca8f2e498d7a9",
       "version_major": 2,
       "version_minor": 0
      },
      "text/plain": [
       "Eval (epoch = 18):   0%|          | 0/594 [00:00<?, ?it/s]"
      ]
     },
     "metadata": {},
     "output_type": "display_data"
    },
    {
     "name": "stdout",
     "output_type": "stream",
     "text": [
      "\n",
      "Average val eer: 5.180316440344332\n",
      "\n",
      "Average val accuracy: 94.48653198653199\n"
     ]
    },
    {
     "data": {
      "application/vnd.jupyter.widget-view+json": {
       "model_id": "61e835c734444d2bb8809a74039cdd77",
       "version_major": 2,
       "version_minor": 0
      },
      "text/plain": [
       "Train (epoch = 19):   0%|          | 0/146 [00:00<?, ?it/s]"
      ]
     },
     "metadata": {},
     "output_type": "display_data"
    },
    {
     "name": "stdout",
     "output_type": "stream",
     "text": [
      "\n",
      "Average train loss: 6.424354278476118e-05\n",
      "Average train accuracy: 100.0\n"
     ]
    },
    {
     "data": {
      "application/vnd.jupyter.widget-view+json": {
       "model_id": "a837f60b8f5640a5b71f3c62bfb4fa23",
       "version_major": 2,
       "version_minor": 0
      },
      "text/plain": [
       "Eval (epoch = 19):   0%|          | 0/594 [00:00<?, ?it/s]"
      ]
     },
     "metadata": {},
     "output_type": "display_data"
    },
    {
     "name": "stdout",
     "output_type": "stream",
     "text": [
      "\n",
      "Average val eer: 4.904011297023658\n",
      "\n",
      "Average val accuracy: 94.66978815937149\n"
     ]
    }
   ],
   "source": [
    "model = train_model(model, \n",
    "                train_dataloader, \n",
    "                valid_dataloader)"
   ]
  },
  {
   "cell_type": "code",
   "execution_count": 14,
   "metadata": {},
   "outputs": [
    {
     "data": {
      "text/plain": [
       "99.83850789114608"
      ]
     },
     "execution_count": 14,
     "metadata": {},
     "output_type": "execute_result"
    }
   ],
   "source": [
    "92.25413860830528 + 7.584369282840795"
   ]
  },
  {
   "cell_type": "code",
   "execution_count": 34,
   "metadata": {},
   "outputs": [
    {
     "data": {
      "application/vnd.jupyter.widget-view+json": {
       "model_id": "4c2c7f8ffa4146d28b7bb8eba453707a",
       "version_major": 2,
       "version_minor": 0
      },
      "text/plain": [
       "  0%|          | 0/20 [00:00<?, ?it/s]"
      ]
     },
     "metadata": {},
     "output_type": "display_data"
    },
    {
     "data": {
      "application/vnd.jupyter.widget-view+json": {
       "model_id": "dcdecde8435f409bbaa22af0e4c3a915",
       "version_major": 2,
       "version_minor": 0
      },
      "text/plain": [
       "Train (epoch = 0):   0%|          | 0/146 [00:00<?, ?it/s]"
      ]
     },
     "metadata": {},
     "output_type": "display_data"
    },
    {
     "name": "stdout",
     "output_type": "stream",
     "text": [
      "\n",
      "Average train loss: 0.13045802355220873\n",
      "Average train accuracy: 96.48576229565764\n"
     ]
    },
    {
     "data": {
      "application/vnd.jupyter.widget-view+json": {
       "model_id": "5b48ae1017db4bd2be54583fa0fe56b9",
       "version_major": 2,
       "version_minor": 0
      },
      "text/plain": [
       "Eval (epoch = 0):   0%|          | 0/594 [00:00<?, ?it/s]"
      ]
     },
     "metadata": {},
     "output_type": "display_data"
    },
    {
     "ename": "KeyboardInterrupt",
     "evalue": "",
     "output_type": "error",
     "traceback": [
      "\u001b[0;31m---------------------------------------------------------------------------\u001b[0m",
      "\u001b[0;31mKeyboardInterrupt\u001b[0m                         Traceback (most recent call last)",
      "Cell \u001b[0;32mIn[34], line 1\u001b[0m\n\u001b[0;32m----> 1\u001b[0m model \u001b[38;5;241m=\u001b[39m \u001b[43mtrain_model\u001b[49m\u001b[43m(\u001b[49m\u001b[43mmodel\u001b[49m\u001b[43m,\u001b[49m\u001b[43m \u001b[49m\n\u001b[1;32m      2\u001b[0m \u001b[43m                \u001b[49m\u001b[43mtrain_dataloader\u001b[49m\u001b[43m,\u001b[49m\u001b[43m \u001b[49m\n\u001b[1;32m      3\u001b[0m \u001b[43m                \u001b[49m\u001b[43mvalid_dataloader\u001b[49m\u001b[43m)\u001b[49m\n",
      "Cell \u001b[0;32mIn[33], line 13\u001b[0m, in \u001b[0;36mtrain_model\u001b[0;34m(model, train_dataloader, valid_dataloader)\u001b[0m\n\u001b[1;32m      5\u001b[0m \u001b[38;5;28;01mfor\u001b[39;00m epoch \u001b[38;5;129;01min\u001b[39;00m tqdm(\u001b[38;5;28mrange\u001b[39m(num_epochs)):\n\u001b[1;32m      7\u001b[0m     model, train_loss, train_acc \u001b[38;5;241m=\u001b[39m train_singe_epoch(model, \n\u001b[1;32m      8\u001b[0m                               train_dataloader,\n\u001b[1;32m      9\u001b[0m                               epoch,\n\u001b[1;32m     10\u001b[0m                               optimizer,\n\u001b[1;32m     11\u001b[0m                               device)\n\u001b[0;32m---> 13\u001b[0m     model, val_eer, val_acc \u001b[38;5;241m=\u001b[39m \u001b[43mevaluate_single_epoch\u001b[49m\u001b[43m(\u001b[49m\u001b[43mmodel\u001b[49m\u001b[43m,\u001b[49m\u001b[43m \u001b[49m\n\u001b[1;32m     14\u001b[0m \u001b[43m                              \u001b[49m\u001b[43mvalid_dataloader\u001b[49m\u001b[43m,\u001b[49m\n\u001b[1;32m     15\u001b[0m \u001b[43m                              \u001b[49m\u001b[43mepoch\u001b[49m\u001b[43m,\u001b[49m\n\u001b[1;32m     16\u001b[0m \u001b[43m                              \u001b[49m\u001b[43mdevice\u001b[49m\u001b[43m,\u001b[49m\n\u001b[1;32m     17\u001b[0m \u001b[43m                              \u001b[49m\u001b[43mdata_type\u001b[49m\u001b[43m)\u001b[49m\n\u001b[1;32m     19\u001b[0m     scheduler\u001b[38;5;241m.\u001b[39mstep()\n\u001b[1;32m     20\u001b[0m \u001b[38;5;28;01mreturn\u001b[39;00m model\n",
      "Cell \u001b[0;32mIn[32], line 12\u001b[0m, in \u001b[0;36mevaluate_single_epoch\u001b[0;34m(model, val_dataloader, epoch, device, data_type)\u001b[0m\n\u001b[1;32m      8\u001b[0m total_accuracy \u001b[38;5;241m=\u001b[39m \u001b[38;5;241m0\u001b[39m\n\u001b[1;32m     10\u001b[0m pbar \u001b[38;5;241m=\u001b[39m tqdm(val_dataloader, desc\u001b[38;5;241m=\u001b[39m\u001b[38;5;124mf\u001b[39m\u001b[38;5;124m'\u001b[39m\u001b[38;5;124mEval (epoch = \u001b[39m\u001b[38;5;132;01m{\u001b[39;00mepoch\u001b[38;5;132;01m}\u001b[39;00m\u001b[38;5;124m)\u001b[39m\u001b[38;5;124m'\u001b[39m)\n\u001b[0;32m---> 12\u001b[0m \u001b[38;5;28;01mfor\u001b[39;00m batch \u001b[38;5;129;01min\u001b[39;00m pbar:\n\u001b[1;32m     14\u001b[0m     data_type \u001b[38;5;241m=\u001b[39m \u001b[38;5;28msorted\u001b[39m(data_type)\n\u001b[1;32m     15\u001b[0m     id1, id2, labels \u001b[38;5;241m=\u001b[39m batch\n",
      "File \u001b[0;32m/usr/local/lib/python3.8/dist-packages/tqdm/notebook.py:257\u001b[0m, in \u001b[0;36mtqdm_notebook.__iter__\u001b[0;34m(self)\u001b[0m\n\u001b[1;32m    255\u001b[0m \u001b[39mdef\u001b[39;00m \u001b[39m__iter__\u001b[39m(\u001b[39mself\u001b[39m):\n\u001b[1;32m    256\u001b[0m     \u001b[39mtry\u001b[39;00m:\n\u001b[0;32m--> 257\u001b[0m         \u001b[39mfor\u001b[39;00m obj \u001b[39min\u001b[39;00m \u001b[39msuper\u001b[39m(tqdm_notebook, \u001b[39mself\u001b[39m)\u001b[39m.\u001b[39m\u001b[39m__iter__\u001b[39m():\n\u001b[1;32m    258\u001b[0m             \u001b[39m# return super(tqdm...) will not catch exception\u001b[39;00m\n\u001b[1;32m    259\u001b[0m             \u001b[39myield\u001b[39;00m obj\n\u001b[1;32m    260\u001b[0m     \u001b[39m# NB: except ... [ as ...] breaks IPython async KeyboardInterrupt\u001b[39;00m\n",
      "File \u001b[0;32m/usr/local/lib/python3.8/dist-packages/tqdm/std.py:1195\u001b[0m, in \u001b[0;36mtqdm.__iter__\u001b[0;34m(self)\u001b[0m\n\u001b[1;32m   1192\u001b[0m time \u001b[39m=\u001b[39m \u001b[39mself\u001b[39m\u001b[39m.\u001b[39m_time\n\u001b[1;32m   1194\u001b[0m \u001b[39mtry\u001b[39;00m:\n\u001b[0;32m-> 1195\u001b[0m     \u001b[39mfor\u001b[39;00m obj \u001b[39min\u001b[39;00m iterable:\n\u001b[1;32m   1196\u001b[0m         \u001b[39myield\u001b[39;00m obj\n\u001b[1;32m   1197\u001b[0m         \u001b[39m# Update and possibly print the progressbar.\u001b[39;00m\n\u001b[1;32m   1198\u001b[0m         \u001b[39m# Note: does not call self.update(1) for speed optimisation.\u001b[39;00m\n",
      "File \u001b[0;32m/usr/local/lib/python3.8/dist-packages/torch/utils/data/dataloader.py:628\u001b[0m, in \u001b[0;36m_BaseDataLoaderIter.__next__\u001b[0;34m(self)\u001b[0m\n\u001b[1;32m    625\u001b[0m \u001b[39mif\u001b[39;00m \u001b[39mself\u001b[39m\u001b[39m.\u001b[39m_sampler_iter \u001b[39mis\u001b[39;00m \u001b[39mNone\u001b[39;00m:\n\u001b[1;32m    626\u001b[0m     \u001b[39m# TODO(https://github.com/pytorch/pytorch/issues/76750)\u001b[39;00m\n\u001b[1;32m    627\u001b[0m     \u001b[39mself\u001b[39m\u001b[39m.\u001b[39m_reset()  \u001b[39m# type: ignore[call-arg]\u001b[39;00m\n\u001b[0;32m--> 628\u001b[0m data \u001b[39m=\u001b[39m \u001b[39mself\u001b[39;49m\u001b[39m.\u001b[39;49m_next_data()\n\u001b[1;32m    629\u001b[0m \u001b[39mself\u001b[39m\u001b[39m.\u001b[39m_num_yielded \u001b[39m+\u001b[39m\u001b[39m=\u001b[39m \u001b[39m1\u001b[39m\n\u001b[1;32m    630\u001b[0m \u001b[39mif\u001b[39;00m \u001b[39mself\u001b[39m\u001b[39m.\u001b[39m_dataset_kind \u001b[39m==\u001b[39m _DatasetKind\u001b[39m.\u001b[39mIterable \u001b[39mand\u001b[39;00m \\\n\u001b[1;32m    631\u001b[0m         \u001b[39mself\u001b[39m\u001b[39m.\u001b[39m_IterableDataset_len_called \u001b[39mis\u001b[39;00m \u001b[39mnot\u001b[39;00m \u001b[39mNone\u001b[39;00m \u001b[39mand\u001b[39;00m \\\n\u001b[1;32m    632\u001b[0m         \u001b[39mself\u001b[39m\u001b[39m.\u001b[39m_num_yielded \u001b[39m>\u001b[39m \u001b[39mself\u001b[39m\u001b[39m.\u001b[39m_IterableDataset_len_called:\n",
      "File \u001b[0;32m/usr/local/lib/python3.8/dist-packages/torch/utils/data/dataloader.py:671\u001b[0m, in \u001b[0;36m_SingleProcessDataLoaderIter._next_data\u001b[0;34m(self)\u001b[0m\n\u001b[1;32m    669\u001b[0m \u001b[39mdef\u001b[39;00m \u001b[39m_next_data\u001b[39m(\u001b[39mself\u001b[39m):\n\u001b[1;32m    670\u001b[0m     index \u001b[39m=\u001b[39m \u001b[39mself\u001b[39m\u001b[39m.\u001b[39m_next_index()  \u001b[39m# may raise StopIteration\u001b[39;00m\n\u001b[0;32m--> 671\u001b[0m     data \u001b[39m=\u001b[39m \u001b[39mself\u001b[39;49m\u001b[39m.\u001b[39;49m_dataset_fetcher\u001b[39m.\u001b[39;49mfetch(index)  \u001b[39m# may raise StopIteration\u001b[39;00m\n\u001b[1;32m    672\u001b[0m     \u001b[39mif\u001b[39;00m \u001b[39mself\u001b[39m\u001b[39m.\u001b[39m_pin_memory:\n\u001b[1;32m    673\u001b[0m         data \u001b[39m=\u001b[39m _utils\u001b[39m.\u001b[39mpin_memory\u001b[39m.\u001b[39mpin_memory(data, \u001b[39mself\u001b[39m\u001b[39m.\u001b[39m_pin_memory_device)\n",
      "File \u001b[0;32m/usr/local/lib/python3.8/dist-packages/torch/utils/data/_utils/fetch.py:58\u001b[0m, in \u001b[0;36m_MapDatasetFetcher.fetch\u001b[0;34m(self, possibly_batched_index)\u001b[0m\n\u001b[1;32m     56\u001b[0m         data \u001b[39m=\u001b[39m \u001b[39mself\u001b[39m\u001b[39m.\u001b[39mdataset\u001b[39m.\u001b[39m__getitems__(possibly_batched_index)\n\u001b[1;32m     57\u001b[0m     \u001b[39melse\u001b[39;00m:\n\u001b[0;32m---> 58\u001b[0m         data \u001b[39m=\u001b[39m [\u001b[39mself\u001b[39m\u001b[39m.\u001b[39mdataset[idx] \u001b[39mfor\u001b[39;00m idx \u001b[39min\u001b[39;00m possibly_batched_index]\n\u001b[1;32m     59\u001b[0m \u001b[39melse\u001b[39;00m:\n\u001b[1;32m     60\u001b[0m     data \u001b[39m=\u001b[39m \u001b[39mself\u001b[39m\u001b[39m.\u001b[39mdataset[possibly_batched_index]\n",
      "File \u001b[0;32m/usr/local/lib/python3.8/dist-packages/torch/utils/data/_utils/fetch.py:58\u001b[0m, in \u001b[0;36m<listcomp>\u001b[0;34m(.0)\u001b[0m\n\u001b[1;32m     56\u001b[0m         data \u001b[39m=\u001b[39m \u001b[39mself\u001b[39m\u001b[39m.\u001b[39mdataset\u001b[39m.\u001b[39m__getitems__(possibly_batched_index)\n\u001b[1;32m     57\u001b[0m     \u001b[39melse\u001b[39;00m:\n\u001b[0;32m---> 58\u001b[0m         data \u001b[39m=\u001b[39m [\u001b[39mself\u001b[39;49m\u001b[39m.\u001b[39;49mdataset[idx] \u001b[39mfor\u001b[39;00m idx \u001b[39min\u001b[39;00m possibly_batched_index]\n\u001b[1;32m     59\u001b[0m \u001b[39melse\u001b[39;00m:\n\u001b[1;32m     60\u001b[0m     data \u001b[39m=\u001b[39m \u001b[39mself\u001b[39m\u001b[39m.\u001b[39mdataset[possibly_batched_index]\n",
      "File \u001b[0;32m/workdir/github/speaker_verification/dataset.py:134\u001b[0m, in \u001b[0;36m__getitem__\u001b[0;34m(self, index)\u001b[0m\n\u001b[1;32m    131\u001b[0m \u001b[39mself\u001b[39m\u001b[39m.\u001b[39mdf_wav\u001b[39m.\u001b[39mreset_index(inplace\u001b[39m=\u001b[39m\u001b[39mTrue\u001b[39;00m)\n\u001b[1;32m    132\u001b[0m \u001b[39mself\u001b[39m\u001b[39m.\u001b[39mdf_wav \u001b[39m=\u001b[39m \u001b[39mself\u001b[39m\u001b[39m.\u001b[39mdf_wav\u001b[39m.\u001b[39mdrop([\u001b[39m\"\u001b[39m\u001b[39mindex\u001b[39m\u001b[39m\"\u001b[39m], axis\u001b[39m=\u001b[39m\u001b[39m1\u001b[39m)\n\u001b[0;32m--> 134\u001b[0m \u001b[39mself\u001b[39m\u001b[39m.\u001b[39mlabels \u001b[39m=\u001b[39m \u001b[39mself\u001b[39m\u001b[39m.\u001b[39mdf_wav[\u001b[39m\"\u001b[39m\u001b[39mnew_ids\u001b[39m\u001b[39m\"\u001b[39m]\u001b[39m.\u001b[39mvalues\n\u001b[1;32m    136\u001b[0m \u001b[39mself\u001b[39m\u001b[39m.\u001b[39mencoder \u001b[39m=\u001b[39m LabelEncoder()\n\u001b[1;32m    137\u001b[0m \u001b[39mself\u001b[39m\u001b[39m.\u001b[39mencoder\u001b[39m.\u001b[39mfit(np\u001b[39m.\u001b[39munique(\u001b[39mself\u001b[39m\u001b[39m.\u001b[39mlabels))\n",
      "File \u001b[0;32m/workdir/github/speaker_verification/dataset.py:161\u001b[0m, in \u001b[0;36m_get_data\u001b[0;34m(self, index)\u001b[0m\n\u001b[1;32m    159\u001b[0m \u001b[39mif\u001b[39;00m \u001b[39m\"\u001b[39m\u001b[39mwav\u001b[39m\u001b[39m\"\u001b[39m \u001b[39min\u001b[39;00m \u001b[39mself\u001b[39m\u001b[39m.\u001b[39mdata_type:\n\u001b[1;32m    160\u001b[0m     \u001b[39mif\u001b[39;00m path2wav:\n\u001b[0;32m--> 161\u001b[0m         data[\u001b[39m\"\u001b[39m\u001b[39mwav\u001b[39m\u001b[39m\"\u001b[39m], sample_rate \u001b[39m=\u001b[39m torchaudio\u001b[39m.\u001b[39mload(path2wav)\n\u001b[1;32m    162\u001b[0m     \u001b[39mif\u001b[39;00m \u001b[39mself\u001b[39m\u001b[39m.\u001b[39maudio_transform:\n\u001b[1;32m    163\u001b[0m         data[\u001b[39m\"\u001b[39m\u001b[39mwav\u001b[39m\u001b[39m\"\u001b[39m] \u001b[39m=\u001b[39m \u001b[39mself\u001b[39m\u001b[39m.\u001b[39maudio_transform(data[\u001b[39m\"\u001b[39m\u001b[39mwav\u001b[39m\u001b[39m\"\u001b[39m], sample_rate)\n",
      "File \u001b[0;32m/usr/local/lib/python3.8/dist-packages/skimage/io/_io.py:53\u001b[0m, in \u001b[0;36mimread\u001b[0;34m(fname, as_gray, plugin, **plugin_args)\u001b[0m\n\u001b[1;32m     50\u001b[0m         plugin \u001b[39m=\u001b[39m \u001b[39m'\u001b[39m\u001b[39mtifffile\u001b[39m\u001b[39m'\u001b[39m\n\u001b[1;32m     52\u001b[0m \u001b[39mwith\u001b[39;00m file_or_url_context(fname) \u001b[39mas\u001b[39;00m fname:\n\u001b[0;32m---> 53\u001b[0m     img \u001b[39m=\u001b[39m call_plugin(\u001b[39m'\u001b[39;49m\u001b[39mimread\u001b[39;49m\u001b[39m'\u001b[39;49m, fname, plugin\u001b[39m=\u001b[39;49mplugin, \u001b[39m*\u001b[39;49m\u001b[39m*\u001b[39;49mplugin_args)\n\u001b[1;32m     55\u001b[0m \u001b[39mif\u001b[39;00m \u001b[39mnot\u001b[39;00m \u001b[39mhasattr\u001b[39m(img, \u001b[39m'\u001b[39m\u001b[39mndim\u001b[39m\u001b[39m'\u001b[39m):\n\u001b[1;32m     56\u001b[0m     \u001b[39mreturn\u001b[39;00m img\n",
      "File \u001b[0;32m/usr/local/lib/python3.8/dist-packages/skimage/io/manage_plugins.py:207\u001b[0m, in \u001b[0;36mcall_plugin\u001b[0;34m(kind, *args, **kwargs)\u001b[0m\n\u001b[1;32m    203\u001b[0m     \u001b[39mexcept\u001b[39;00m \u001b[39mIndexError\u001b[39;00m:\n\u001b[1;32m    204\u001b[0m         \u001b[39mraise\u001b[39;00m \u001b[39mRuntimeError\u001b[39;00m(\u001b[39m'\u001b[39m\u001b[39mCould not find the plugin \u001b[39m\u001b[39m\"\u001b[39m\u001b[39m%s\u001b[39;00m\u001b[39m\"\u001b[39m\u001b[39m for \u001b[39m\u001b[39m%s\u001b[39;00m\u001b[39m.\u001b[39m\u001b[39m'\u001b[39m \u001b[39m%\u001b[39m\n\u001b[1;32m    205\u001b[0m                            (plugin, kind))\n\u001b[0;32m--> 207\u001b[0m \u001b[39mreturn\u001b[39;00m func(\u001b[39m*\u001b[39;49margs, \u001b[39m*\u001b[39;49m\u001b[39m*\u001b[39;49mkwargs)\n",
      "File \u001b[0;32m/usr/local/lib/python3.8/dist-packages/skimage/io/_plugins/imageio_plugin.py:10\u001b[0m, in \u001b[0;36mimread\u001b[0;34m(*args, **kwargs)\u001b[0m\n\u001b[1;32m      8\u001b[0m \u001b[39m@wraps\u001b[39m(imageio_imread)\n\u001b[1;32m      9\u001b[0m \u001b[39mdef\u001b[39;00m \u001b[39mimread\u001b[39m(\u001b[39m*\u001b[39margs, \u001b[39m*\u001b[39m\u001b[39m*\u001b[39mkwargs):\n\u001b[0;32m---> 10\u001b[0m     \u001b[39mreturn\u001b[39;00m np\u001b[39m.\u001b[39masarray(imageio_imread(\u001b[39m*\u001b[39;49margs, \u001b[39m*\u001b[39;49m\u001b[39m*\u001b[39;49mkwargs))\n",
      "File \u001b[0;32m/usr/local/lib/python3.8/dist-packages/imageio/__init__.py:86\u001b[0m, in \u001b[0;36mimread\u001b[0;34m(uri, format, **kwargs)\u001b[0m\n\u001b[1;32m     65\u001b[0m \u001b[39mdef\u001b[39;00m \u001b[39mimread\u001b[39m(uri, \u001b[39mformat\u001b[39m\u001b[39m=\u001b[39m\u001b[39mNone\u001b[39;00m, \u001b[39m*\u001b[39m\u001b[39m*\u001b[39mkwargs):\n\u001b[1;32m     66\u001b[0m \u001b[39m    \u001b[39m\u001b[39m\"\"\"imread(uri, format=None, **kwargs)\u001b[39;00m\n\u001b[1;32m     67\u001b[0m \n\u001b[1;32m     68\u001b[0m \u001b[39m    Reads an image from the specified file. Returns a numpy array, which\u001b[39;00m\n\u001b[0;32m   (...)\u001b[0m\n\u001b[1;32m     84\u001b[0m \u001b[39m        to see what arguments are available for a particular format.\u001b[39;00m\n\u001b[1;32m     85\u001b[0m \u001b[39m    \"\"\"\u001b[39;00m\n\u001b[0;32m---> 86\u001b[0m     \u001b[39mreturn\u001b[39;00m imread_v2(uri, \u001b[39mformat\u001b[39;49m\u001b[39m=\u001b[39;49m\u001b[39mformat\u001b[39;49m, \u001b[39m*\u001b[39;49m\u001b[39m*\u001b[39;49mkwargs)\n",
      "File \u001b[0;32m/usr/local/lib/python3.8/dist-packages/imageio/v2.py:160\u001b[0m, in \u001b[0;36mimread\u001b[0;34m(uri, format, **kwargs)\u001b[0m\n\u001b[1;32m    155\u001b[0m     \u001b[39mraise\u001b[39;00m \u001b[39mTypeError\u001b[39;00m(\n\u001b[1;32m    156\u001b[0m         \u001b[39m'\u001b[39m\u001b[39mInvalid keyword argument \u001b[39m\u001b[39m\"\u001b[39m\u001b[39mmode\u001b[39m\u001b[39m\"\u001b[39m\u001b[39m, \u001b[39m\u001b[39m'\u001b[39m \u001b[39m'\u001b[39m\u001b[39mperhaps you mean \u001b[39m\u001b[39m\"\u001b[39m\u001b[39mpilmode\u001b[39m\u001b[39m\"\u001b[39m\u001b[39m?\u001b[39m\u001b[39m'\u001b[39m\n\u001b[1;32m    157\u001b[0m     )\n\u001b[1;32m    159\u001b[0m \u001b[39mwith\u001b[39;00m imopen(uri, \u001b[39m\"\u001b[39m\u001b[39mri\u001b[39m\u001b[39m\"\u001b[39m, plugin\u001b[39m=\u001b[39m\u001b[39mformat\u001b[39m) \u001b[39mas\u001b[39;00m file:\n\u001b[0;32m--> 160\u001b[0m     \u001b[39mreturn\u001b[39;00m file\u001b[39m.\u001b[39;49mread(index\u001b[39m=\u001b[39;49m\u001b[39m0\u001b[39;49m, \u001b[39m*\u001b[39;49m\u001b[39m*\u001b[39;49mkwargs)\n",
      "File \u001b[0;32m/usr/local/lib/python3.8/dist-packages/imageio/core/legacy_plugin_wrapper.py:132\u001b[0m, in \u001b[0;36mLegacyPlugin.read\u001b[0;34m(self, index, **kwargs)\u001b[0m\n\u001b[1;32m    129\u001b[0m     img \u001b[39m=\u001b[39m np\u001b[39m.\u001b[39mstack([im \u001b[39mfor\u001b[39;00m im \u001b[39min\u001b[39;00m \u001b[39mself\u001b[39m\u001b[39m.\u001b[39miter(\u001b[39m*\u001b[39m\u001b[39m*\u001b[39mkwargs)])\n\u001b[1;32m    130\u001b[0m     \u001b[39mreturn\u001b[39;00m img\n\u001b[0;32m--> 132\u001b[0m reader \u001b[39m=\u001b[39m \u001b[39mself\u001b[39;49m\u001b[39m.\u001b[39;49mlegacy_get_reader(\u001b[39m*\u001b[39;49m\u001b[39m*\u001b[39;49mkwargs)\n\u001b[1;32m    133\u001b[0m \u001b[39mreturn\u001b[39;00m reader\u001b[39m.\u001b[39mget_data(index)\n",
      "File \u001b[0;32m/usr/local/lib/python3.8/dist-packages/imageio/core/legacy_plugin_wrapper.py:104\u001b[0m, in \u001b[0;36mLegacyPlugin.legacy_get_reader\u001b[0;34m(self, **kwargs)\u001b[0m\n\u001b[1;32m    101\u001b[0m     \u001b[39mreturn\u001b[39;00m \u001b[39mself\u001b[39m\u001b[39m.\u001b[39m_format\u001b[39m.\u001b[39mget_reader(\u001b[39mself\u001b[39m\u001b[39m.\u001b[39m_request)\n\u001b[1;32m    103\u001b[0m \u001b[39mself\u001b[39m\u001b[39m.\u001b[39m_request\u001b[39m.\u001b[39mget_file()\u001b[39m.\u001b[39mseek(\u001b[39m0\u001b[39m)\n\u001b[0;32m--> 104\u001b[0m \u001b[39mreturn\u001b[39;00m \u001b[39mself\u001b[39;49m\u001b[39m.\u001b[39;49m_format\u001b[39m.\u001b[39;49mget_reader(\u001b[39mself\u001b[39;49m\u001b[39m.\u001b[39;49m_request)\n",
      "File \u001b[0;32m/usr/local/lib/python3.8/dist-packages/imageio/core/format.py:190\u001b[0m, in \u001b[0;36mFormat.get_reader\u001b[0;34m(self, request)\u001b[0m\n\u001b[1;32m    186\u001b[0m \u001b[39mif\u001b[39;00m select_mode \u001b[39mnot\u001b[39;00m \u001b[39min\u001b[39;00m \u001b[39mself\u001b[39m\u001b[39m.\u001b[39mmodes:\n\u001b[1;32m    187\u001b[0m     \u001b[39mraise\u001b[39;00m \u001b[39mRuntimeError\u001b[39;00m(\n\u001b[1;32m    188\u001b[0m         \u001b[39mf\u001b[39m\u001b[39m\"\u001b[39m\u001b[39mFormat \u001b[39m\u001b[39m{\u001b[39;00m\u001b[39mself\u001b[39m\u001b[39m.\u001b[39mname\u001b[39m}\u001b[39;00m\u001b[39m cannot read in \u001b[39m\u001b[39m{\u001b[39;00mrequest\u001b[39m.\u001b[39mmode\u001b[39m.\u001b[39mimage_mode\u001b[39m}\u001b[39;00m\u001b[39m mode\u001b[39m\u001b[39m\"\u001b[39m\n\u001b[1;32m    189\u001b[0m     )\n\u001b[0;32m--> 190\u001b[0m \u001b[39mreturn\u001b[39;00m \u001b[39mself\u001b[39;49m\u001b[39m.\u001b[39;49mReader(\u001b[39mself\u001b[39;49m, request)\n",
      "File \u001b[0;32m/usr/local/lib/python3.8/dist-packages/imageio/core/format.py:281\u001b[0m, in \u001b[0;36mFormat._BaseReaderWriter.__init__\u001b[0;34m(self, format, request)\u001b[0m\n\u001b[1;32m    279\u001b[0m \u001b[39mself\u001b[39m\u001b[39m.\u001b[39m_request \u001b[39m=\u001b[39m request\n\u001b[1;32m    280\u001b[0m \u001b[39m# Open the reader/writer\u001b[39;00m\n\u001b[0;32m--> 281\u001b[0m \u001b[39mself\u001b[39;49m\u001b[39m.\u001b[39;49m_open(\u001b[39m*\u001b[39;49m\u001b[39m*\u001b[39;49m\u001b[39mself\u001b[39;49m\u001b[39m.\u001b[39;49mrequest\u001b[39m.\u001b[39;49mkwargs\u001b[39m.\u001b[39;49mcopy())\n",
      "File \u001b[0;32m/usr/local/lib/python3.8/dist-packages/imageio/plugins/pillow_legacy.py:468\u001b[0m, in \u001b[0;36mJPEGFormat.Reader._open\u001b[0;34m(self, pilmode, as_gray, exifrotate)\u001b[0m\n\u001b[1;32m    467\u001b[0m \u001b[39mdef\u001b[39;00m \u001b[39m_open\u001b[39m(\u001b[39mself\u001b[39m, pilmode\u001b[39m=\u001b[39m\u001b[39mNone\u001b[39;00m, as_gray\u001b[39m=\u001b[39m\u001b[39mFalse\u001b[39;00m, exifrotate\u001b[39m=\u001b[39m\u001b[39mTrue\u001b[39;00m):\n\u001b[0;32m--> 468\u001b[0m     \u001b[39mreturn\u001b[39;00m PillowFormat\u001b[39m.\u001b[39;49mReader\u001b[39m.\u001b[39;49m_open(\u001b[39mself\u001b[39;49m, pilmode\u001b[39m=\u001b[39;49mpilmode, as_gray\u001b[39m=\u001b[39;49mas_gray)\n",
      "File \u001b[0;32m/usr/local/lib/python3.8/dist-packages/imageio/plugins/pillow_legacy.py:300\u001b[0m, in \u001b[0;36mPillowFormat.Reader._open\u001b[0;34m(self, pilmode, as_gray)\u001b[0m\n\u001b[1;32m    298\u001b[0m \u001b[39mif\u001b[39;00m \u001b[39mself\u001b[39m\u001b[39m.\u001b[39m_im\u001b[39m.\u001b[39mpalette \u001b[39mand\u001b[39;00m \u001b[39mself\u001b[39m\u001b[39m.\u001b[39m_im\u001b[39m.\u001b[39mpalette\u001b[39m.\u001b[39mdirty:\n\u001b[1;32m    299\u001b[0m     \u001b[39mself\u001b[39m\u001b[39m.\u001b[39m_im\u001b[39m.\u001b[39mpalette\u001b[39m.\u001b[39mrawmode_saved \u001b[39m=\u001b[39m \u001b[39mself\u001b[39m\u001b[39m.\u001b[39m_im\u001b[39m.\u001b[39mpalette\u001b[39m.\u001b[39mrawmode\n\u001b[0;32m--> 300\u001b[0m pil_try_read(\u001b[39mself\u001b[39;49m\u001b[39m.\u001b[39;49m_im)\n\u001b[1;32m    301\u001b[0m \u001b[39m# Store args\u001b[39;00m\n\u001b[1;32m    302\u001b[0m \u001b[39mself\u001b[39m\u001b[39m.\u001b[39m_kwargs \u001b[39m=\u001b[39m \u001b[39mdict\u001b[39m(\n\u001b[1;32m    303\u001b[0m     as_gray\u001b[39m=\u001b[39mas_gray, is_gray\u001b[39m=\u001b[39m_palette_is_grayscale(\u001b[39mself\u001b[39m\u001b[39m.\u001b[39m_im)\n\u001b[1;32m    304\u001b[0m )\n",
      "File \u001b[0;32m/usr/local/lib/python3.8/dist-packages/imageio/plugins/pillow_legacy.py:654\u001b[0m, in \u001b[0;36mpil_try_read\u001b[0;34m(im)\u001b[0m\n\u001b[1;32m    651\u001b[0m \u001b[39mdef\u001b[39;00m \u001b[39mpil_try_read\u001b[39m(im):\n\u001b[1;32m    652\u001b[0m     \u001b[39mtry\u001b[39;00m:\n\u001b[1;32m    653\u001b[0m         \u001b[39m# this will raise an IOError if the file is not readable\u001b[39;00m\n\u001b[0;32m--> 654\u001b[0m         im\u001b[39m.\u001b[39;49mgetdata()[\u001b[39m0\u001b[39m]\n\u001b[1;32m    655\u001b[0m     \u001b[39mexcept\u001b[39;00m \u001b[39mIOError\u001b[39;00m \u001b[39mas\u001b[39;00m e:\n\u001b[1;32m    656\u001b[0m         site \u001b[39m=\u001b[39m \u001b[39m\"\u001b[39m\u001b[39mhttp://pillow.readthedocs.io/en/latest/installation.html\u001b[39m\u001b[39m\"\u001b[39m\n",
      "File \u001b[0;32m/usr/local/lib/python3.8/dist-packages/PIL/Image.py:1294\u001b[0m, in \u001b[0;36mImage.getdata\u001b[0;34m(self, band)\u001b[0m\n\u001b[1;32m   1276\u001b[0m \u001b[39mdef\u001b[39;00m \u001b[39mgetdata\u001b[39m(\u001b[39mself\u001b[39m, band\u001b[39m=\u001b[39m\u001b[39mNone\u001b[39;00m):\n\u001b[1;32m   1277\u001b[0m \u001b[39m    \u001b[39m\u001b[39m\"\"\"\u001b[39;00m\n\u001b[1;32m   1278\u001b[0m \u001b[39m    Returns the contents of this image as a sequence object\u001b[39;00m\n\u001b[1;32m   1279\u001b[0m \u001b[39m    containing pixel values.  The sequence object is flattened, so\u001b[39;00m\n\u001b[0;32m   (...)\u001b[0m\n\u001b[1;32m   1291\u001b[0m \u001b[39m    :returns: A sequence-like object.\u001b[39;00m\n\u001b[1;32m   1292\u001b[0m \u001b[39m    \"\"\"\u001b[39;00m\n\u001b[0;32m-> 1294\u001b[0m     \u001b[39mself\u001b[39;49m\u001b[39m.\u001b[39;49mload()\n\u001b[1;32m   1295\u001b[0m     \u001b[39mif\u001b[39;00m band \u001b[39mis\u001b[39;00m \u001b[39mnot\u001b[39;00m \u001b[39mNone\u001b[39;00m:\n\u001b[1;32m   1296\u001b[0m         \u001b[39mreturn\u001b[39;00m \u001b[39mself\u001b[39m\u001b[39m.\u001b[39mim\u001b[39m.\u001b[39mgetband(band)\n",
      "File \u001b[0;32m/usr/local/lib/python3.8/dist-packages/PIL/ImageFile.py:253\u001b[0m, in \u001b[0;36mImageFile.load\u001b[0;34m(self)\u001b[0m\n\u001b[1;32m    247\u001b[0m         \u001b[39mraise\u001b[39;00m \u001b[39mOSError\u001b[39;00m(\n\u001b[1;32m    248\u001b[0m             \u001b[39m\"\u001b[39m\u001b[39mimage file is truncated \u001b[39m\u001b[39m\"\u001b[39m\n\u001b[1;32m    249\u001b[0m             \u001b[39mf\u001b[39m\u001b[39m\"\u001b[39m\u001b[39m(\u001b[39m\u001b[39m{\u001b[39;00m\u001b[39mlen\u001b[39m(b)\u001b[39m}\u001b[39;00m\u001b[39m bytes not processed)\u001b[39m\u001b[39m\"\u001b[39m\n\u001b[1;32m    250\u001b[0m         )\n\u001b[1;32m    252\u001b[0m b \u001b[39m=\u001b[39m b \u001b[39m+\u001b[39m s\n\u001b[0;32m--> 253\u001b[0m n, err_code \u001b[39m=\u001b[39m decoder\u001b[39m.\u001b[39;49mdecode(b)\n\u001b[1;32m    254\u001b[0m \u001b[39mif\u001b[39;00m n \u001b[39m<\u001b[39m \u001b[39m0\u001b[39m:\n\u001b[1;32m    255\u001b[0m     \u001b[39mbreak\u001b[39;00m\n",
      "\u001b[0;31mKeyboardInterrupt\u001b[0m: "
     ]
    }
   ],
   "source": [
    "model = train_model(model, \n",
    "                train_dataloader, \n",
    "                valid_dataloader)"
   ]
  }
 ],
 "metadata": {
  "kernelspec": {
   "display_name": "Python 3.8.10 64-bit",
   "language": "python",
   "name": "python3"
  },
  "language_info": {
   "codemirror_mode": {
    "name": "ipython",
    "version": 3
   },
   "file_extension": ".py",
   "mimetype": "text/x-python",
   "name": "python",
   "nbconvert_exporter": "python",
   "pygments_lexer": "ipython3",
   "version": "3.8.10"
  },
  "orig_nbformat": 4,
  "vscode": {
   "interpreter": {
    "hash": "916dbcbb3f70747c44a77c7bcd40155683ae19c65e1c03b4aa3499c5328201f1"
   }
  }
 },
 "nbformat": 4,
 "nbformat_minor": 2
}
